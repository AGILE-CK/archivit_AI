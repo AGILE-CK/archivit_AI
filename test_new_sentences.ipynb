{
 "cells": [
  {
   "cell_type": "code",
   "execution_count": 2,
   "metadata": {},
   "outputs": [
    {
     "data": {
      "text/plain": [
       "<All keys matched successfully>"
      ]
     },
     "execution_count": 2,
     "metadata": {},
     "output_type": "execute_result"
    }
   ],
   "source": [
    "from openprompt.plms import load_plm\n",
    "from openprompt.prompts import ManualVerbalizer, ManualTemplate\n",
    "from openprompt.pipeline_base import PromptForClassification\n",
    "from transformers import RobertaTokenizer\n",
    "import torch\n",
    "\n",
    "# Load the tokenizer\n",
    "tokenizer = RobertaTokenizer.from_pretrained('my_tokenizer')\n",
    "\n",
    "# Load the PLM, tokenizer, and wrapper class\n",
    "plm, _, _, WrapperClass = load_plm(\"roberta\", \"roberta-large\")\n",
    "\n",
    "# Define the template (recreate it as it was during training)\n",
    "template = ManualTemplate(\n",
    "    tokenizer=tokenizer, \n",
    "    text='{\"placeholder\":\"text_a\"} Sentence for analyze: This sentence is {\"mask\"}.' \n",
    ")\n",
    "\n",
    "# Define the verbalizer (recreate it as it was during training)\n",
    "verbalizer = ManualVerbalizer(\n",
    "    tokenizer=tokenizer, \n",
    "    num_classes=2, \n",
    "    label_words=['positive','negative']\n",
    ")\n",
    "\n",
    "# Create the model instance\n",
    "model = PromptForClassification(plm, template, verbalizer)\n",
    "\n",
    "# Load the saved model state\n",
    "model.load_state_dict(torch.load('best_model_by_template.pt'))"
   ]
  },
  {
   "cell_type": "code",
   "execution_count": 7,
   "metadata": {},
   "outputs": [
    {
     "name": "stderr",
     "output_type": "stream",
     "text": [
      "tokenizing: 1it [00:00, 500.45it/s]\n"
     ]
    },
    {
     "name": "stdout",
     "output_type": "stream",
     "text": [
      "Predicted class for the new sentence: 1\n"
     ]
    }
   ],
   "source": [
    "import torch\n",
    "from openprompt.data_utils import InputExample\n",
    "from openprompt.pipeline_base import PromptDataLoader, PromptForClassification\n",
    "\n",
    "# Define the device (use GPU if available, otherwise use CPU)\n",
    "device = torch.device(\"cuda\" if torch.cuda.is_available() else \"cpu\")\n",
    "\n",
    "def predict_new_sentence(sentence, model, template, tokenizer, device, WrapperClass):\n",
    "    # Create an InputExample object\n",
    "    input_example = InputExample(text_a=sentence, label=0)  # Label is dummy\n",
    "    \n",
    "    # Create a DataLoader for the single example\n",
    "    single_example_dataloader = PromptDataLoader(\n",
    "        dataset=[input_example], \n",
    "        template=template, \n",
    "        tokenizer=tokenizer, \n",
    "        tokenizer_wrapper_class=WrapperClass, \n",
    "        batch_size=1, \n",
    "        shuffle=False,\n",
    "        max_seq_length=128\n",
    "    )\n",
    "\n",
    "    # Move model to the appropriate device\n",
    "    model.to(device)\n",
    "    model.eval()\n",
    "\n",
    "    # Forward pass: compute logits\n",
    "    with torch.no_grad():\n",
    "        for batch in single_example_dataloader:\n",
    "            # Move batch to the appropriate device\n",
    "            batch = {k: v.to(device) for k, v in batch.items()}\n",
    "            logits = model(batch)\n",
    "\n",
    "    # Convert logits to probabilities\n",
    "    probs = torch.nn.functional.softmax(logits, dim=1)\n",
    "\n",
    "    # Get the class with the highest probability\n",
    "    predicted_class = torch.argmax(probs, dim=1).item()\n",
    "\n",
    "    return predicted_class\n",
    "\n",
    "# Example usage\n",
    "new_sentence = \"someone is really\"\n",
    "predicted_class = predict_new_sentence(new_sentence, model, template, tokenizer, device, WrapperClass)\n",
    "print(f\"Predicted class for the new sentence: {predicted_class}\")"
   ]
  }
 ],
 "metadata": {
  "kernelspec": {
   "display_name": "Python 3",
   "language": "python",
   "name": "python3"
  },
  "language_info": {
   "codemirror_mode": {
    "name": "ipython",
    "version": 3
   },
   "file_extension": ".py",
   "mimetype": "text/x-python",
   "name": "python",
   "nbconvert_exporter": "python",
   "pygments_lexer": "ipython3",
   "version": "3.10.11"
  }
 },
 "nbformat": 4,
 "nbformat_minor": 2
}
